{
 "cells": [
  {
   "cell_type": "markdown",
   "metadata": {},
   "source": [
    "# Simulador Sistemas Cuánticos\n",
    "### Probabilidad \n",
    "#### El sistema consiste en una partícula confinada a un conjunto discreto de posiciones en una línea."
   ]
  },
  {
   "cell_type": "code",
   "execution_count": 6,
   "metadata": {},
   "outputs": [],
   "source": [
    "import numpy as np\n",
    "\n",
    "class SistemaCuantico:\n",
    "    def __init__(self, num_posiciones, ket_estado):\n",
    "        self.num_posiciones = num_posiciones\n",
    "        self.ket_estado = np.array(ket_estado, dtype=complex)\n",
    "\n",
    "    \n",
    "    def normalizar(self):\n",
    "        # Calcula la norma del vector ket\n",
    "        norma = np.linalg.norm(self.ket_estado)\n",
    "        # Normaliza el vector dividiendo cada componente por la norma\n",
    "        self.ket_estado /= norma\n",
    "        print(\"Vector normalizado:\", self.ket_estado)\n",
    "    \n",
    "    def calcular_probabilidad(self, posicion):\n",
    "\n",
    "        return np.abs(self.ket_estado[posicion])**2\n",
    "    \n",
    "    def probabilidad_en_todas_las_posiciones(self):\n",
    "        # Calculamos la probabilidad de encontrar la partícula en cada posición\n",
    "        return [self.calcular_probabilidad(i) for i in range(self.num_posiciones)]"
   ]
  },
  {
   "cell_type": "markdown",
   "metadata": {},
   "source": [
    "#### Ejemplo: "
   ]
  },
  {
   "cell_type": "code",
   "execution_count": 16,
   "metadata": {},
   "outputs": [
    {
     "name": "stdout",
     "output_type": "stream",
     "text": [
      "Vector normalizado: [0.5       +0.j  0.        +0.5j 0.70710678+0.j ]\n",
      "Probabilidad de encontrar la partícula en la posición 2: 0.5000000000000001\n"
     ]
    }
   ],
   "source": [
    "import numpy as np\n",
    "\n",
    "class SistemaCuantico:\n",
    "    def __init__(self, num_posiciones, ket_estado):\n",
    "        self.num_posiciones = num_posiciones\n",
    "        self.ket_estado = np.array(ket_estado, dtype=complex)\n",
    "\n",
    "    def normalizar(self):\n",
    "        # Norma del vector ket\n",
    "        norma = np.linalg.norm(self.ket_estado)\n",
    "        # Normaliza el vector dividiendo por la norma\n",
    "        self.ket_estado /= norma\n",
    "        print(\"Vector normalizado:\", self.ket_estado)\n",
    "    \n",
    "    def calcular_probabilidad(self, posicion):\n",
    "        return np.abs(self.ket_estado[posicion])**2\n",
    "    \n",
    "    def probabilidad_en_todas_las_posiciones(self):\n",
    "        # Calculamos la probabilidad de encontrar la partícula en cada posición\n",
    "        return [self.calcular_probabilidad(i) for i in range(self.num_posiciones)]\n",
    "    \n",
    "# Ejemplo de uso\n",
    "ket_estado = [1/2, complex(0, 1/2), np.sqrt(2)/2]  # Vector de estado con amplitudes complejas\n",
    "sim = SistemaCuantico(3, ket_estado)\n",
    "\n",
    "# Normalizar el vector de estado\n",
    "sim.normalizar()\n",
    "\n",
    "# Calcular la probabilidad de encontrar la partícula en la posición 2\n",
    "probabilidad_posicion_2 = sim.calcular_probabilidad(2)\n",
    "print(f\"Probabilidad de encontrar la partícula en la posición 2: {probabilidad_posicion_2}\")\n",
    "\n"
   ]
  },
  {
   "cell_type": "markdown",
   "metadata": {},
   "source": []
  }
 ],
 "metadata": {
  "kernelspec": {
   "display_name": "Python 3",
   "language": "python",
   "name": "python3"
  },
  "language_info": {
   "codemirror_mode": {
    "name": "ipython",
    "version": 3
   },
   "file_extension": ".py",
   "mimetype": "text/x-python",
   "name": "python",
   "nbconvert_exporter": "python",
   "pygments_lexer": "ipython3",
   "version": "3.13.0"
  }
 },
 "nbformat": 4,
 "nbformat_minor": 2
}
